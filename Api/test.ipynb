{
 "cells": [
  {
   "cell_type": "code",
   "execution_count": null,
   "id": "4b451394",
   "metadata": {},
   "outputs": [],
   "source": [
    "from azure.servicebus.aio import ServiceBusClient\n",
    "from azure.servicebus import ServiceBusMessage # 메시지를 보낸때 해당 클래스로 감싸 보내야함\n",
    "import json\n",
    "\n",
    "servicebus_client = ServiceBusClient.from_connection_string(conn_str=SERVICEBUS_CONNECTION_URL, logging_enable=True)\n",
    "\n",
    "question_data = {\n",
    "    \"channel_id\": \"test\",\n",
    "    \"content\" : \"test\"\n",
    "}\n",
    "\n",
    "# with 문법으로 인스턴스를 열게되면, 인스턴스 안의 엔터함수, 엑시트 함수 자동 호출\n",
    "async with servicebus_client:\n",
    "    sender = servicebus_client.get_queue_sender(queue_name=\"process-request-queue\")\n",
    "    \n",
    "    async with sender:\n",
    "        message = ServiceBusMessage(json.dumps(question_data))\n",
    "        await sender.send_messages(message)"
   ]
  }
 ],
 "metadata": {
  "kernelspec": {
   "display_name": ".venv",
   "language": "python",
   "name": "python3"
  },
  "language_info": {
   "codemirror_mode": {
    "name": "ipython",
    "version": 3
   },
   "file_extension": ".py",
   "mimetype": "text/x-python",
   "name": "python",
   "nbconvert_exporter": "python",
   "pygments_lexer": "ipython3",
   "version": "3.11.12"
  }
 },
 "nbformat": 4,
 "nbformat_minor": 5
}
